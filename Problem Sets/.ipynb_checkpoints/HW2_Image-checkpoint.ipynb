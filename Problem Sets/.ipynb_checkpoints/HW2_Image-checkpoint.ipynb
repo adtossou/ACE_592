{
 "cells": [
  {
   "cell_type": "markdown",
   "metadata": {},
   "source": [
    "# Come On Baby, Do the Crop Rotation!\n",
    "In this assignment you need to do the following:\n",
    "1. Clip the 2016 and 2017 CDL rasters to the state of Illinois.\n",
    "2. Summarize the top 10 land uses in Illinois in each year.\n",
    "3. Create two rasters for each year:\n",
    "    - 1 if pixel is corn, 0 otherwise\n",
    "    - 1 if pizel is soybeans, 0 otherwise\n",
    "    \n",
    "    And then plot them.\n",
    "4. Describe the degree of crop rotation (corn and soybeans only) between 2016 and 2017.\n",
    "5. Create a raster using the CDL layers where each pixel is labeled:\n",
    "    - 1 = corn stayed corn\n",
    "    - 2 = soybeans stayed soybeans\n",
    "    - 3 = corn changed to soybeans\n",
    "    - 4 = soybeans changed to corn\n",
    "    - 0 = any other case.\n",
    "    \n",
    "6. Visualize the raster on top of the Illinois shapefile.\n",
    "7. Suppose a client has the following question:\n",
    "    \n",
    "    __\"What are the crop yield advantages of crop rotation as compared to monocropping in Illinois?\"__\n",
    "   \n",
    "   Describe how you might answer this question using the CDL layer, specifically:\n",
    "       - What data sources you would need in addition to the raster you just created.\n",
    "       - How you would manipulate the data.\n",
    "       - What statistics you would calculate or model you would run on this data.\n",
    "       - How you might present your findings.\n",
    "8. What factors would make it difficult to accurately answer the question? List three and explain why they might make answering the question difficult."
   ]
  },
  {
   "cell_type": "code",
   "execution_count": 1,
   "metadata": {},
   "outputs": [],
   "source": [
    "import rasterio\n",
    "from rasterio.plot import show\n",
    "import matplotlib.pyplot as plt\n",
    "import geopandas\n",
    "from rasterio.mask import mask\n",
    "import pandas as pd\n",
    "import numpy as np\n",
    "import json\n",
    "import matplotlib.patches as mpatches\n",
    "import matplotlib.colors\n",
    "from scipy.signal import medfilt2d"
   ]
  },
  {
   "cell_type": "code",
   "execution_count": null,
   "metadata": {},
   "outputs": [],
   "source": []
  }
 ],
 "metadata": {
  "kernelspec": {
   "display_name": "Python 3",
   "language": "python",
   "name": "python3"
  },
  "language_info": {
   "codemirror_mode": {
    "name": "ipython",
    "version": 3
   },
   "file_extension": ".py",
   "mimetype": "text/x-python",
   "name": "python",
   "nbconvert_exporter": "python",
   "pygments_lexer": "ipython3",
   "version": "3.8.5"
  }
 },
 "nbformat": 4,
 "nbformat_minor": 4
}
